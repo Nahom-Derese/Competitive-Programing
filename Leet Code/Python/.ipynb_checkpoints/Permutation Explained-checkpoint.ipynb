{
 "cells": [
  {
   "cell_type": "markdown",
   "id": "9653450d",
   "metadata": {},
   "source": [
    "# Permutation In Python"
   ]
  },
  {
   "cell_type": "code",
   "execution_count": 20,
   "id": "c8e1cbc9",
   "metadata": {
    "scrolled": true
   },
   "outputs": [
    {
     "name": "stdout",
     "output_type": "stream",
     "text": [
      "['a', 'b', 'c', 'd']\n",
      "['a', 'b', 'd', 'c']\n",
      "['a', 'c', 'd', 'b']\n",
      "['a', 'c', 'b', 'd']\n",
      "['a', 'd', 'b', 'c']\n",
      "['a', 'd', 'c', 'b']\n",
      "['b', 'c', 'd', 'a']\n",
      "['b', 'c', 'a', 'd']\n",
      "['b', 'd', 'a', 'c']\n",
      "['b', 'd', 'c', 'a']\n",
      "['b', 'a', 'c', 'd']\n",
      "['b', 'a', 'd', 'c']\n",
      "['c', 'd', 'a', 'b']\n",
      "['c', 'd', 'b', 'a']\n",
      "['c', 'a', 'b', 'd']\n",
      "['c', 'a', 'd', 'b']\n",
      "['c', 'b', 'd', 'a']\n",
      "['c', 'b', 'a', 'd']\n",
      "['d', 'a', 'b', 'c']\n",
      "['d', 'a', 'c', 'b']\n",
      "['d', 'b', 'c', 'a']\n",
      "['d', 'b', 'a', 'c']\n",
      "['d', 'c', 'a', 'b']\n",
      "['d', 'c', 'b', 'a']\n"
     ]
    }
   ],
   "source": [
    "# Assume List = ['A','B']\n",
    "def perm(List):\n",
    "    \n",
    "    # Rulling out EmptyLists\n",
    "    if len(List) == 0:\n",
    "        return []\n",
    "    \n",
    "    # Base Case Give List of List of one String Like ==> [['A']]\n",
    "    if len(List) == 1:\n",
    "        return [List]\n",
    "    \n",
    "    # Main Logic Here\n",
    "    else:\n",
    "        # PermList is a list for which every permutation is appended to\n",
    "        permList = []\n",
    "        \n",
    "        # Loop through the List ==> ['A','B']\n",
    "        for i in range(len(List)):\n",
    "            # var a is the character at the current index\n",
    "            a = List[i]\n",
    "            \n",
    "            # List of the remaining characters in the List (List Excluding only the current Index)\n",
    "            b = List[i+1:] + List[:i]\n",
    "            \n",
    "            # Reccuring Occurs Here\n",
    "            for c in perm(b):\n",
    "                permList.append([a]+c)\n",
    "                \n",
    "        return permList\n",
    "\n",
    "for p in perm(list(\"abcd\")):\n",
    "    print(p)"
   ]
  },
  {
   "cell_type": "code",
   "execution_count": null,
   "id": "606a42ff",
   "metadata": {},
   "outputs": [],
   "source": []
  }
 ],
 "metadata": {
  "kernelspec": {
   "display_name": "Python 3 (ipykernel)",
   "language": "python",
   "name": "python3"
  },
  "language_info": {
   "codemirror_mode": {
    "name": "ipython",
    "version": 3
   },
   "file_extension": ".py",
   "mimetype": "text/x-python",
   "name": "python",
   "nbconvert_exporter": "python",
   "pygments_lexer": "ipython3",
   "version": "3.9.13"
  }
 },
 "nbformat": 4,
 "nbformat_minor": 5
}
